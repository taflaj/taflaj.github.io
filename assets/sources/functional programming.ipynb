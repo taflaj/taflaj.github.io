{
 "cells": [
  {
   "cell_type": "raw",
   "id": "0fcc0e00-7e24-4cf6-a147-97d73cc2a17e",
   "metadata": {
    "tags": []
   },
   "source": [
    "---\n",
    "layout: post\n",
    "title:  \"Functional programming in Python\"\n",
    "categories: technology programming functional-programming python\n",
    "date: 2024-05-15\n",
    "last_modified_at: 2025-04-28\n",
    "excerpt_separator: <!--more-->\n",
    "---\n",
    "[![python](/assets/images/python.jpeg)](/functional-programming/)\n",
    "<div style=\"font-size: 0.8em; text-align: right\">Image source: OpenAI</div>"
   ]
  },
  {
   "cell_type": "markdown",
   "id": "08380384-d698-4e68-acef-6a4500be634a",
   "metadata": {},
   "source": [
    "In this article I'm presenting a way of using functional programming in Python, highlighting some benefits and a few shortfalls. There are plenty of scholars out there; this is mostly a hobbyist's perspective, so please don't consider this to be the ultimate word."
   ]
  },
  {
   "cell_type": "raw",
   "id": "55fb0621-e4b4-472f-a072-aa5b72a34ad6",
   "metadata": {},
   "source": [
    "<!--more-->"
   ]
  },
  {
   "cell_type": "markdown",
   "id": "5efdf89d-3f2e-46a1-84d2-ae19871e98c4",
   "metadata": {},
   "source": [
    "## Declarative vs imperative programming\n",
    "\n",
    "One difference between declarative and imperative programming is that, on the former, you tell the computer <mark>what</mark> to do, while on the latter you tell it <mark>how</mark> to do it. The examples below will give more clarity on this.\n",
    "\n",
    "### Object oriented programming\n",
    "\n",
    "OOP (for short) is one example of imperative programming. You model the data and behavior in classes and, during run time, the program instantiates classes into objects. A class can be viewed as the blueprint of the data you want to handle and how it should behave, while the objects contain the data itself.\n",
    "\n",
    "Four basic principles of OOP:[^1] \n",
    "- **Abstraction**: Modeling the relevant attributes and interactions of entities as classes to define an abstract representation of a system.\n",
    "- **Encapsulation**: Hiding the internal state and functionality of an object and only allowing access through a public set of functions.\n",
    "- **Inheritance**: Ability to create new abstractions based on existing abstractions.\n",
    "- **Polymorphism**: Ability to implement inherited properties or methods in different ways across multiple abstractions.\n",
    "\n",
    "[^1]: Source: [Microsoft: Object-Oriented programming (C#)](https://learn.microsoft.com/en-us/dotnet/csharp/fundamentals/tutorials/oop)\n",
    "\n",
    "Even though Python does not fully implement all principles, <mark>everything</mark> in Python is an object. For example:\n",
    "```python\n",
    ">>> a=1\n",
    ">>> type(a)\n",
    "<class 'int'>\n",
    "```\n",
    "Which means, `a` is an instance of class `int`, therefore an object.\n",
    "\n",
    "### Functional programming\n",
    "\n",
    "FP (for short) is one example of declarative programming. These are a few principles:\n",
    "- Pure functions\n",
    "  - Functions must accept at least one argument\n",
    "  - Functions return data or another function\n",
    "  - No loops\n",
    "  - Stateless (whenever the function runs, it's like it's running for the first time; in other words, given the same inputs, the output will always be the same)\n",
    "  - No side effects (when the function runs, <mark>nothing</mark> outside of its scope will change)\n",
    "- Immutable values\n",
    "  - Scalar variables are constant\n",
    "  - If a function needs, for example, to alter an array, then instead it should make an altered copy of the array and return it\n",
    "- Referential transparency\n",
    "  - An expression is called *referentially transparent* if it can be replaced with its corresponding value (and vice-versa) without changing the program's behavior. This requires that the expression be pure: its value must be the same for the same inputs and its evaluation must have no side effects.\n",
    "    - An expression that is not referentially transparent is called *referentially opaque*.[^2]\n",
    "\n",
    "[^2]: Source: [Wikipedia: Referential transparency](https://en.wikipedia.org/wiki/Referential_transparency\n",
    "\n",
    "Note: for reference, this is the Python version I'm using:"
   ]
  },
  {
   "cell_type": "code",
   "execution_count": 1,
   "id": "106626ad-abdc-4033-a9bc-629e944a066c",
   "metadata": {},
   "outputs": [
    {
     "data": {
      "text/plain": [
       "'3.13.3 (main, Apr  9 2025, 07:44:25) [GCC 14.2.1 20250207]'"
      ]
     },
     "execution_count": 1,
     "metadata": {},
     "output_type": "execute_result"
    }
   ],
   "source": [
    "import sys\n",
    "sys.version"
   ]
  },
  {
   "cell_type": "markdown",
   "id": "1a89811d-0d38-4e7e-bd05-ac997f955026",
   "metadata": {},
   "source": [
    "## Practical example \\#1: factorials\n",
    "\n",
    "This is one way of defining a function to calculate the factorial of a number using imperative programming:"
   ]
  },
  {
   "cell_type": "code",
   "execution_count": 2,
   "id": "0d7a03a2-e66c-41e7-986f-9b95e8f82bfb",
   "metadata": {},
   "outputs": [],
   "source": [
    "def factorial1(n: int) -> int:\n",
    "    result = 1\n",
    "    for i in range(2, n+1):\n",
    "        result *= i\n",
    "    return result"
   ]
  },
  {
   "cell_type": "markdown",
   "id": "6b28c156-5123-456e-abc6-1bc8da5c152f",
   "metadata": {},
   "source": [
    "There are two side effects (`result` and `i`), both of which are mutable, and there is one `for` loop. Regardless, how does it perform?"
   ]
  },
  {
   "cell_type": "code",
   "execution_count": 3,
   "id": "9e78fa60-8499-4399-aa2a-83b2f41cd72f",
   "metadata": {},
   "outputs": [
    {
     "name": "stdout",
     "output_type": "stream",
     "text": [
      "281 μs ± 514 ns per loop (mean ± std. dev. of 7 runs, 1,000 loops each)\n"
     ]
    }
   ],
   "source": [
    "%%timeit\n",
    "factorial1(1558)"
   ]
  },
  {
   "cell_type": "markdown",
   "id": "375bab65-3536-4723-9c03-b8504276aadc",
   "metadata": {},
   "source": [
    "Notes:\n",
    "1. Timings are empirical and non-deterministic.\n",
    "2. 1,558 is the largest input I could find that does not break the function.\n",
    "\n",
    "Here's the same function, this time using functional programming principles:"
   ]
  },
  {
   "cell_type": "code",
   "execution_count": 4,
   "id": "a9cfb8ec-f091-4f3a-bb1f-3a23bb24e9cc",
   "metadata": {},
   "outputs": [],
   "source": [
    "def factorial2(n: int) -> int:\n",
    "    return 1 if n < 2 else n * factorial2(n-1)"
   ]
  },
  {
   "cell_type": "code",
   "execution_count": 5,
   "id": "456a3427-0785-423e-90d6-fe10b2a955e8",
   "metadata": {},
   "outputs": [
    {
     "name": "stdout",
     "output_type": "stream",
     "text": [
      "375 μs ± 772 ns per loop (mean ± std. dev. of 7 runs, 1,000 loops each)\n"
     ]
    }
   ],
   "source": [
    "%%timeit\n",
    "factorial2(1558)"
   ]
  },
  {
   "cell_type": "markdown",
   "id": "4bb05dd7-2cfd-45b9-8c11-59490c4e85b8",
   "metadata": {},
   "source": [
    "It's more than 25% slower.\n",
    "\n",
    "Python allows us to define `lambda` functions, which also adhere to functional programming principles. Here's one way of writing the same function:"
   ]
  },
  {
   "cell_type": "code",
   "execution_count": 6,
   "id": "a0b8aad9-a49c-42b6-ae9c-beeae5f2d405",
   "metadata": {},
   "outputs": [],
   "source": [
    "factorial3 = lambda n: 1 if n < 2 else n * factorial3(n-1)"
   ]
  },
  {
   "cell_type": "code",
   "execution_count": 7,
   "id": "b4da6f31-cac5-4c50-9719-61e1e3ed107a",
   "metadata": {},
   "outputs": [
    {
     "name": "stdout",
     "output_type": "stream",
     "text": [
      "375 μs ± 873 ns per loop (mean ± std. dev. of 7 runs, 1,000 loops each)\n"
     ]
    }
   ],
   "source": [
    "%%timeit\n",
    "factorial3(1558)"
   ]
  },
  {
   "cell_type": "markdown",
   "id": "d8a39d28-ac98-4324-8a85-e3c5eb8ae502",
   "metadata": {},
   "source": [
    "It's similar to the previous example, and again much slower than using imperative programming. Also, we're not measuring resource usage here, although it's known that recursion does consume memory."
   ]
  },
  {
   "cell_type": "markdown",
   "id": "14d0f35b-5b8a-45e3-831e-a602ea314f52",
   "metadata": {},
   "source": [
    "## Practical example \\#2: the Fibonacci sequence\n",
    "\n",
    "Here's a simple implementation using imperative programming:"
   ]
  },
  {
   "cell_type": "code",
   "execution_count": 8,
   "id": "d36d8ddb-5c2f-4953-9d3c-503f66ad3c22",
   "metadata": {},
   "outputs": [],
   "source": [
    "def fibonacci1(n: int) -> int:\n",
    "    a, b = 0, 1\n",
    "    for i in range(n):\n",
    "        a, b = b, a + b\n",
    "    return a"
   ]
  },
  {
   "cell_type": "markdown",
   "id": "b7e04731-2570-47b2-bf36-c39ef70fbd19",
   "metadata": {},
   "source": [
    "Likewise, there are three side effects (`a`, `b`, and `i`), all of which mutable, and one `for` loop."
   ]
  },
  {
   "cell_type": "code",
   "execution_count": 9,
   "id": "a563509b-c091-4600-be82-9bf1a89d54a6",
   "metadata": {},
   "outputs": [
    {
     "name": "stdout",
     "output_type": "stream",
     "text": [
      "3.38 ms ± 10 μs per loop (mean ± std. dev. of 7 runs, 100 loops each)\n"
     ]
    }
   ],
   "source": [
    "%%timeit\n",
    "fibonacci1(20577)"
   ]
  },
  {
   "cell_type": "markdown",
   "id": "fca8f86c-76ce-4f4b-aaa2-807f4765fbde",
   "metadata": {},
   "source": [
    "Once again, 20,577 is the largest input I could find that does not break the function.\n",
    "\n",
    "Let's try a purely functional approach to the Fibonacci sequence."
   ]
  },
  {
   "cell_type": "code",
   "execution_count": 10,
   "id": "ec792a99-bdc4-4f3c-8199-076ffb1e0e2c",
   "metadata": {},
   "outputs": [],
   "source": [
    "fibonacci3 = lambda n: n if n < 2 else fibonacci3(n-1) + fibonacci3(n-2)"
   ]
  },
  {
   "cell_type": "markdown",
   "id": "d57e7148-96c9-4e7a-a818-e46eaeacb8ce",
   "metadata": {},
   "source": [
    "It becomes unbearably slow, as can be seen here (I tried a smaller number just to make it palatable)."
   ]
  },
  {
   "cell_type": "code",
   "execution_count": 11,
   "id": "d86f543d-8a83-4133-b650-fa9bdad7778c",
   "metadata": {},
   "outputs": [
    {
     "name": "stdout",
     "output_type": "stream",
     "text": [
      "64.9 ms ± 147 μs per loop (mean ± std. dev. of 7 runs, 10 loops each)\n"
     ]
    }
   ],
   "source": [
    "%%timeit -n 10\n",
    "fibonacci3(30)"
   ]
  },
  {
   "cell_type": "markdown",
   "id": "b4ad4b25-11a8-43c1-8b42-c420ec76a1ed",
   "metadata": {},
   "source": [
    "For the sake of comparison, here's the timing when using the purely imperative approach."
   ]
  },
  {
   "cell_type": "code",
   "execution_count": 12,
   "id": "11e11ebc-6c26-40d5-84e2-91d1c19c521c",
   "metadata": {},
   "outputs": [
    {
     "name": "stdout",
     "output_type": "stream",
     "text": [
      "584 ns ± 38.8 ns per loop (mean ± std. dev. of 7 runs, 1,000 loops each)\n"
     ]
    }
   ],
   "source": [
    "%%timeit -n 1000\n",
    "fibonacci1(30)"
   ]
  },
  {
   "cell_type": "markdown",
   "id": "29c204f5-1531-4a8a-a5ff-edc0a05ccf12",
   "metadata": {},
   "source": [
    "Much faster, indeed.\n",
    "\n",
    "### A pinch of dynamic programming\n",
    "\n",
    "The first problem with the Fibonacci sequence is that there are two recursions: `fibonacci3(n-1)` and `fibonacci3(n-2)`.\n",
    "\n",
    "The other problem, maybe even worse, is that the function keeps recalculating the same value over and over again. As an example, what happens when we run `fibonacci3(30)`? It runs for 29, which runs for 28, 27, 26, etc. **and then** it runs for 28 **AGAIN**! Why can't we reuse what has been previously calculated?\n",
    "\n",
    "In comes dynamic programming. One of its principles is to break down a problem into smaller subproblems and solve them on at a time, and then solve the bigger one. In this case, we can use it as an optimization over plain recursion. Wherever we see a recursive solution that has repeated calls for same inputs, we can optimize it using dynamic programming. The idea is to simply store the results of subproblems, so that we do not have to re-compute them when needed later. This simple optimization reduces time complexities from exponential to polynomial.[^3]\n",
    "\n",
    "[^3]: Source: [GeeksforGeeks: Dynamic Programming](https://www.geeksforgeeks.org/dynamic-programming/#)\n",
    "\n",
    "Here's one quick and dirty implementation:"
   ]
  },
  {
   "cell_type": "code",
   "execution_count": 13,
   "id": "dc2dfbb2-ab32-46fb-a00a-59b266e8f9af",
   "metadata": {},
   "outputs": [],
   "source": [
    "cache = {}\n",
    "def fibonacci4(n: int) -> int:\n",
    "    if n not in cache:\n",
    "        cache[n] = n if n < 2 else fibonacci4(n-1) + fibonacci4(n-2)\n",
    "    return cache[n]"
   ]
  },
  {
   "cell_type": "markdown",
   "id": "dea85892-ce9c-4139-b918-f5bee83aaad0",
   "metadata": {},
   "source": [
    "Not only `cache` is mutable, but it's also a huge side effect, as it will linger forever. In Python, however, we could minimize the risk of another function to alter `cache` by placing it on an external file.\n",
    "\n",
    "How does it perform? It's hard to determine the maximum amount at which it breaks, so I'll just use a number of my choice."
   ]
  },
  {
   "cell_type": "code",
   "execution_count": 14,
   "id": "5f199e2e-f6b6-4390-ae30-159371935347",
   "metadata": {},
   "outputs": [
    {
     "name": "stdout",
     "output_type": "stream",
     "text": [
      "37.5 ns ± 0.0837 ns per loop (mean ± std. dev. of 7 runs, 10,000,000 loops each)\n"
     ]
    }
   ],
   "source": [
    "%%timeit\n",
    "fibonacci4(1000)"
   ]
  },
  {
   "cell_type": "markdown",
   "id": "a181010f-f8dc-46fc-b69d-5ab27c215bc0",
   "metadata": {},
   "source": [
    "For the sake of comparison, once again I present you the timing when using the purely imperative approach."
   ]
  },
  {
   "cell_type": "code",
   "execution_count": 15,
   "id": "c3230795-8636-4dd2-94cf-9f4ab63945b5",
   "metadata": {},
   "outputs": [
    {
     "name": "stdout",
     "output_type": "stream",
     "text": [
      "31.5 μs ± 422 ns per loop (mean ± std. dev. of 7 runs, 10,000 loops each)\n"
     ]
    }
   ],
   "source": [
    "%%timeit\n",
    "fibonacci1(1000)"
   ]
  },
  {
   "cell_type": "markdown",
   "id": "e25d58bf-76bf-4d20-82dd-2f1424977262",
   "metadata": {},
   "source": [
    "The numbers speak for themselves: the dynamic programming example runs in a fraction of the time used by other paradigms. This is because, most of the time, the function is just returning the value that had been previously calculated.\n",
    "\n",
    "In case you were wondering, the cache is, indeed, preserved between runs, therefore constituting a side effect."
   ]
  },
  {
   "cell_type": "code",
   "execution_count": 16,
   "id": "a55d0c75-efce-4f21-8ead-588a8621bcf3",
   "metadata": {},
   "outputs": [
    {
     "data": {
      "text/plain": [
       "1001"
      ]
     },
     "execution_count": 16,
     "metadata": {},
     "output_type": "execute_result"
    }
   ],
   "source": [
    "len(cache)"
   ]
  },
  {
   "cell_type": "markdown",
   "id": "51018584-28b4-49f8-aa9f-cf88721a7dfe",
   "metadata": {},
   "source": [
    "### Memoization\n",
    "\n",
    "The technique we just used up here is called *memoization*. According to [Wikipedia](https://en.wikipedia.org/wiki/Memoization), \"In computing, memoization or memoisation is an optimization technique used primarily to speed up computer programs by storing the results of expensive function calls to pure functions and returning the cached result when the same inputs occur again.\"\n",
    "\n",
    "Fortunately for us, Python has plenty of rabbits we can hide in our hats. A [quick search online](https://duckduckgo.com/?q=memoization+python&t=newext&atb=v427-6&ia=web) will show us a number of possibilities, some built in, others we can build ourselves without having to recreate them over and over again.\n",
    "\n",
    "I, for one, prefer to keep things simple. On average, those who preceded me have spent significant time building effective implementations of a comprehensive solution to a problem, and the best I can do is, at the least, evaluate their solution. Let's begin by having a look at `functools.lru_cache`:"
   ]
  },
  {
   "cell_type": "code",
   "execution_count": 17,
   "id": "e15931fc-b88a-498e-9d11-426d7a71b2f8",
   "metadata": {},
   "outputs": [],
   "source": [
    "from functools import lru_cache\n",
    "\n",
    "@lru_cache\n",
    "def fibonacci2a(n : int) -> int:\n",
    "    return n if n < 2 else fibonacci2a(n-1) + fibonacci2a(n-2)"
   ]
  },
  {
   "cell_type": "code",
   "execution_count": 18,
   "id": "25644e66-06cf-4852-97a5-3a3ed4c0f42b",
   "metadata": {},
   "outputs": [
    {
     "name": "stdout",
     "output_type": "stream",
     "text": [
      "34.6 ns ± 0.0506 ns per loop (mean ± std. dev. of 7 runs, 10,000,000 loops each)\n"
     ]
    }
   ],
   "source": [
    "%%timeit\n",
    "fibonacci2a(1000)"
   ]
  },
  {
   "cell_type": "markdown",
   "id": "1b8ac898-8593-4485-90b3-022b687a2f6c",
   "metadata": {},
   "source": [
    "Another possibility is to use `functools.cache`. The difference is that `cache` doesn't enforce a limit whilst `lru_cache` does."
   ]
  },
  {
   "cell_type": "code",
   "execution_count": 19,
   "id": "58348db1-0b16-4315-952a-814d25d2ddac",
   "metadata": {},
   "outputs": [],
   "source": [
    "from functools import cache\n",
    "\n",
    "@cache\n",
    "def fibonacci2b(n : int) -> int:\n",
    "    return n if n < 2 else fibonacci2b(n-1) + fibonacci2b(n-2)"
   ]
  },
  {
   "cell_type": "code",
   "execution_count": 20,
   "id": "0c71f223-cf17-4e1a-9d4c-bd3818efac42",
   "metadata": {},
   "outputs": [
    {
     "name": "stdout",
     "output_type": "stream",
     "text": [
      "35 ns ± 0.0798 ns per loop (mean ± std. dev. of 7 runs, 10,000,000 loops each)\n"
     ]
    }
   ],
   "source": [
    "%%timeit\n",
    "fibonacci2b(1000)"
   ]
  },
  {
   "cell_type": "markdown",
   "id": "520b3951-8568-4ef5-8c52-628dd89076a2",
   "metadata": {},
   "source": [
    "The other difference is that `cache` could be faster than `lru_cache` because, among other reasons, it doesn't manage limits. Care must be taken, though, because resource consumption could increase significantly over time <mark>and it would be very hard to pinpoint the root cause</mark>.\n",
    "\n",
    "By the way, did you notice that the examples using `cache` and `lru_cache` ran faster than my previous code caching intermediate results internally (fibonacci4)?"
   ]
  },
  {
   "cell_type": "markdown",
   "id": "f0f6f683-ca57-44c6-b791-dce2b325edf5",
   "metadata": {},
   "source": [
    "## Functional programming is not perfect\n",
    "\n",
    "Reading [Athreya aka Maneshwar's article on object oriented versus functional programming](https://dev.to/lovestaco/object-oriented-programming-encapsulation-moving-parts-and-functional-paradigms-30d0) made me think of it a little bit deeper. Let's review some principles.\n",
    "\n",
    "### Functions must accept at least one argument\n",
    "\n",
    "In this case, we can't have a random number generator. We can have arguments specifying the type of number, its length, or range, but depending on the implementation they aren't always required.\n",
    "\n",
    "### Stateless\n",
    "\n",
    "Given the same inputs, the output will always be the same. Really? For a random number generator, I definitely don't want to have the very same output over and over again. Even if it repeats itself, eventually I must get a different number.\n",
    "\n",
    "As for file handling, assuming I'm reading from a file that hasn't changed, then I'm always reading the same data. If the file changes, however, we're breaking this rule.\n",
    "\n",
    "The same applies to databases. After someone updates the database (which is usually expected), the data being read is no longer the same.\n",
    "\n",
    "### Scalar variables are constant\n",
    "\n",
    "All of the above is manageable and can be accepted, but if scalar variables must be constant, then there's no way we can implement a counter, for example.\n",
    "\n",
    "Here's a counter class:"
   ]
  },
  {
   "cell_type": "code",
   "execution_count": 21,
   "id": "e9afe1ca-619a-426d-9f13-29d675252602",
   "metadata": {},
   "outputs": [],
   "source": [
    "class Counter1:\n",
    "    def __init__(self) -> None:\n",
    "        self.counter = 0\n",
    "    def increment(self):\n",
    "        self.counter += 1\n",
    "        return self\n",
    "    def get(self) -> int:\n",
    "        return self.counter"
   ]
  },
  {
   "cell_type": "markdown",
   "id": "4d3f46c8-869b-47c8-a448-f6b0771c8e05",
   "metadata": {},
   "source": [
    "The scalar variable `self.counter` is mutable and changes with every call to `increment`."
   ]
  },
  {
   "cell_type": "code",
   "execution_count": 22,
   "id": "0b8feab4-3389-4189-9fd7-89a56a1399a3",
   "metadata": {},
   "outputs": [
    {
     "data": {
      "text/plain": [
       "0"
      ]
     },
     "execution_count": 22,
     "metadata": {},
     "output_type": "execute_result"
    }
   ],
   "source": [
    "c1 = Counter1()\n",
    "c1.get()"
   ]
  },
  {
   "cell_type": "code",
   "execution_count": 23,
   "id": "b493b366-1941-41ba-9d05-602a33018a59",
   "metadata": {},
   "outputs": [
    {
     "data": {
      "text/plain": [
       "[1, 2, 3, 4, 5, 6, 7, 8, 9, 10]"
      ]
     },
     "execution_count": 23,
     "metadata": {},
     "output_type": "execute_result"
    }
   ],
   "source": [
    "[c1.increment().get() for x in range(10)]"
   ]
  },
  {
   "cell_type": "markdown",
   "id": "7e0c8932-387a-4b67-ba9a-6ff59dd5bee3",
   "metadata": {},
   "source": [
    "Subsequent calls will yield increasing numbers. No surprises here.\n",
    "\n",
    "Let's enforce the rule:"
   ]
  },
  {
   "cell_type": "code",
   "execution_count": 24,
   "id": "f28be4e3-ee10-47c0-abc7-28269b7cb96d",
   "metadata": {},
   "outputs": [],
   "source": [
    "class Counter2:\n",
    "    def __init__(self, value=0) -> None:\n",
    "        self.counter = value\n",
    "    def increment(self):\n",
    "        return Counter2(self.counter + 1)\n",
    "    def get(self) -> int:\n",
    "        return self.counter\n"
   ]
  },
  {
   "cell_type": "markdown",
   "id": "9fd94ca8-8d18-42c8-a313-731453ff43f2",
   "metadata": {},
   "source": [
    "The scalar variable `self.counter` is immutable. There is no provision to change it. Calling `increment` will, instead, instantiate a new object with a new, immutable, incremented value."
   ]
  },
  {
   "cell_type": "code",
   "execution_count": 25,
   "id": "bbe49169-abbb-4fbc-8344-a7f4faecfadd",
   "metadata": {},
   "outputs": [
    {
     "data": {
      "text/plain": [
       "0"
      ]
     },
     "execution_count": 25,
     "metadata": {},
     "output_type": "execute_result"
    }
   ],
   "source": [
    "c2 = Counter2()\n",
    "c2.get()"
   ]
  },
  {
   "cell_type": "code",
   "execution_count": 26,
   "id": "94ce1499-3581-4a97-9ab1-27caeac2ce76",
   "metadata": {},
   "outputs": [
    {
     "data": {
      "text/plain": [
       "1"
      ]
     },
     "execution_count": 26,
     "metadata": {},
     "output_type": "execute_result"
    }
   ],
   "source": [
    "c2 = c2.increment()\n",
    "c2.get()"
   ]
  },
  {
   "cell_type": "code",
   "execution_count": 27,
   "id": "d8de2c14-819b-40c4-8d0d-97fc2627d279",
   "metadata": {},
   "outputs": [
    {
     "data": {
      "text/plain": [
       "2"
      ]
     },
     "execution_count": 27,
     "metadata": {},
     "output_type": "execute_result"
    }
   ],
   "source": [
    "c2 = c2.increment()\n",
    "c2.get()"
   ]
  },
  {
   "cell_type": "markdown",
   "id": "9a886847-a0eb-4a82-bdf4-e77f07348711",
   "metadata": {},
   "source": [
    "Subsequent calls will yield increasing numbers. No surprises here either… but there's a caveat: if we don't reassign the new object to a variable, we'll be working with stale data. For example:"
   ]
  },
  {
   "cell_type": "code",
   "execution_count": 28,
   "id": "a0620c5b-c266-427f-806c-7215e42d4b7e",
   "metadata": {},
   "outputs": [
    {
     "data": {
      "text/plain": [
       "[3, 3, 3, 3, 3, 3, 3, 3, 3, 3]"
      ]
     },
     "execution_count": 28,
     "metadata": {},
     "output_type": "execute_result"
    }
   ],
   "source": [
    "[c2.increment().get() for x in range(10)]"
   ]
  },
  {
   "cell_type": "markdown",
   "id": "7880197f-0d93-4b8e-b70c-f49c3a815eb6",
   "metadata": {},
   "source": [
    "In this example, `c2` keeps pointing to the original object instead of the updated one. That's why it keeps returning the same value. Even worse, if we pass `c2` as an argument to another object, then for as long as the object is active, it will keep operating on obsolete data.\n",
    "\n",
    "#### Let's solve this (and prove myself wrong)\n",
    "\n",
    "Here's one way of doing it:"
   ]
  },
  {
   "cell_type": "code",
   "execution_count": 29,
   "id": "262c8676-0cd2-44f6-aef9-48cde238edc2",
   "metadata": {},
   "outputs": [],
   "source": [
    "class Hidden_Counter:\n",
    "    def __init__(self, value=0):\n",
    "        self.hidden_counter = value\n",
    "    def increment(self):\n",
    "        return Hidden_Counter(self.hidden_counter + 1)\n",
    "    def get(self):\n",
    "        return self.hidden_counter\n",
    "\n",
    "class Counter3:\n",
    "    def __init__(self):\n",
    "        self.counter = Hidden_Counter()\n",
    "    def increment(self):\n",
    "        self.counter = self.counter.increment()\n",
    "        return self.counter\n",
    "    def get(self):\n",
    "        return self.counter.get()"
   ]
  },
  {
   "cell_type": "markdown",
   "id": "b3f4bea4-4409-47fb-ae62-05ce5005d1bc",
   "metadata": {},
   "source": [
    "You add this code to a separate source file. Wherever you need to use it, you add `from <name> import Counter3`, which guarantees that `Hidden_Counter` remains hidden. `Hidden_Counter` keeps reinstatiating itself for every increment while `Counter3` keeps references intact."
   ]
  },
  {
   "cell_type": "code",
   "execution_count": 30,
   "id": "84ff496e-4930-4666-b025-484453d9254e",
   "metadata": {},
   "outputs": [
    {
     "data": {
      "text/plain": [
       "0"
      ]
     },
     "execution_count": 30,
     "metadata": {},
     "output_type": "execute_result"
    }
   ],
   "source": [
    "c3 = Counter3()\n",
    "c3.get()"
   ]
  },
  {
   "cell_type": "code",
   "execution_count": 31,
   "id": "6a76b3d5-bc1a-4fab-8964-2ead445f0bf2",
   "metadata": {},
   "outputs": [
    {
     "data": {
      "text/plain": [
       "[1, 2, 3, 4, 5, 6, 7, 8, 9, 10]"
      ]
     },
     "execution_count": 31,
     "metadata": {},
     "output_type": "execute_result"
    }
   ],
   "source": [
    "[c3.increment().get() for x in range(10)]"
   ]
  },
  {
   "cell_type": "markdown",
   "id": "b4563679-0c04-47d3-8ffa-e42df8663d45",
   "metadata": {},
   "source": [
    "You can do the same using inner classes."
   ]
  },
  {
   "cell_type": "code",
   "execution_count": 32,
   "id": "66c101d0-209b-4cdd-be20-c07f06fbc3f9",
   "metadata": {},
   "outputs": [],
   "source": [
    "class Counter4:\n",
    "    class Hidden_Counter:\n",
    "        def __init__(self, value=0):\n",
    "            self.hidden_counter = value\n",
    "        def increment(self):\n",
    "            return Hidden_Counter(self.hidden_counter + 1)\n",
    "        def get(self):\n",
    "            return self.hidden_counter\n",
    "    def __init__(self):\n",
    "        self.counter = Hidden_Counter()\n",
    "    def increment(self):\n",
    "        self.counter = self.counter.increment()\n",
    "        return self.counter\n",
    "    def get(self):\n",
    "        return self.counter.get()"
   ]
  },
  {
   "cell_type": "code",
   "execution_count": 33,
   "id": "206f243f-7d1d-472f-80a2-6d5ea58d05f9",
   "metadata": {},
   "outputs": [
    {
     "data": {
      "text/plain": [
       "0"
      ]
     },
     "execution_count": 33,
     "metadata": {},
     "output_type": "execute_result"
    }
   ],
   "source": [
    "c4 = Counter4()\n",
    "c4.get()"
   ]
  },
  {
   "cell_type": "code",
   "execution_count": 34,
   "id": "d0bfd789-bdf8-44a9-81d8-8b810347cc5a",
   "metadata": {},
   "outputs": [
    {
     "data": {
      "text/plain": [
       "[1, 2, 3, 4, 5, 6, 7, 8, 9, 10]"
      ]
     },
     "execution_count": 34,
     "metadata": {},
     "output_type": "execute_result"
    }
   ],
   "source": [
    "[c4.increment().get() for x in range(10)]"
   ]
  },
  {
   "cell_type": "markdown",
   "id": "34880024-216f-476b-904f-f538ca7df464",
   "metadata": {},
   "source": [
    "In many programming languages, no code outside of an enclosing class has any visibility of inner classes."
   ]
  },
  {
   "cell_type": "markdown",
   "id": "3c05e54f-152e-4ad7-b3e1-f3e0a22b2002",
   "metadata": {},
   "source": [
    "## The Golden Hammer antipattern\n",
    "\n",
    "The Golden Hammer antipattern permeates from a development team's overreliance on a single tool set, pattern, platform, or other component of the development workflow. It is a classic pitfall that any team faces when they have gained some level of expertise in a particular solution or methodology. This antipattern is appropriately summarized using the following adage: \"When all you have is a hammer, everything looks like a nail.\"[^4]\n",
    "\n",
    "One of the main advantages of functional programming is its simplicity. Given the same results for the same inputs, and given there are no side effects, it's easy to debug. Resource consumption and execution time may be issues and must be taken into account. In my past experience as a software engineer, however, I should say that only in rare occasions I dealt with deep recursion levels. The most notable case was so many years ago, when I had to look up data in a hierarchical data structure. Resources were at a premium and my program was crashing at random intervals. My very talented data architect came to the rescue, creating a new database view for me, and my problems went away.\n",
    "\n",
    "Or, at the least, that one.\n",
    "\n",
    "There are purely declarative programming languages. Likewise, there are purely imperative programming languages. You *may* be stuck.\n",
    "\n",
    "There are, nonetheless, multiparadigm programming languages. You'll have the option to choose how to write your code. Against the Golden Hammer antipattern, remember that you have multiple tools and techniques at your disposal, so do yourself a favor and choose the best one for solving the problem at hand.\n",
    "\n",
    "[^4]: Source: [TechTarget: Signs of a Golden Hammer antipattern, and 5 ways to avoid it](https://www.techtarget.com/searchapparchitecture/tip/Signs-of-a-Golden-Hammer-antipattern-and-ways-to-avoid-it)"
   ]
  },
  {
   "cell_type": "markdown",
   "id": "0b1af9ee-d7e3-420a-a5af-f4be4fc3ebbd",
   "metadata": {},
   "source": [
    "---\n",
    "\n",
    "#### Revision history\n",
    "\n",
    "1. 2024-05-15: Original posting date.\n",
    "2. 2025-03-16: New hardware.\n",
    "3. 2025-03-17: Problems with functional programming.\n",
    "4. 2025-03-18: Correcting my own mistakes.\n",
    "5. 2025-04-28: Spell check.\n",
    "\n",
    "---"
   ]
  }
 ],
 "metadata": {
  "kernelspec": {
   "display_name": "Python 3 (ipykernel)",
   "language": "python",
   "name": "python3"
  },
  "language_info": {
   "codemirror_mode": {
    "name": "ipython",
    "version": 3
   },
   "file_extension": ".py",
   "mimetype": "text/x-python",
   "name": "python",
   "nbconvert_exporter": "python",
   "pygments_lexer": "ipython3",
   "version": "3.13.3"
  }
 },
 "nbformat": 4,
 "nbformat_minor": 5
}
