{
 "cells": [
  {
   "cell_type": "markdown",
   "id": "320c60a4-8ac0-4619-b515-ff3872810b76",
   "metadata": {
    "tags": []
   },
   "source": [
    "# Functional Programming in Python"
   ]
  },
  {
   "cell_type": "markdown",
   "id": "5efdf89d-3f2e-46a1-84d2-ae19871e98c4",
   "metadata": {},
   "source": [
    "In this article I'm presenting a way of using functional programming in Python, highlighting some benefits and a few shortfalls. There are plenty of scholars out there; this is mostly a hobbyist's perspective, so please don't consider this to be the ultimate word.\n",
    "\n",
    "## Declarative vs Imperative Programming\n",
    "\n",
    "One difference between declarative and imperative programming is that, on the former, you tell the computer **what** to do, while on the latter you tell it **how** to do it. The examples below will give more clarity on this.\n",
    "\n",
    "### Object Oriented Programming\n",
    "\n",
    "OOP (for short) is one example of imperative programming. You model the data and behavior in classes and, on run time, the program instantiates classes into objects. A class can be viewed as the blueprint of the data you want to handle and how it should behave, while the objects are the data itself.\n",
    "\n",
    "Four basic principles of OOP:[^1] \n",
    "- *Abstraction* Modeling the relevant attributes and interactions of entities as classes to define an abstract representation of a system.\n",
    "- *Encapsulation* Hiding the internal state and functionality of an object and only allowing access through a public set of functions.\n",
    "- *Inheritance* Ability to create new abstractions based on existing abstractions.\n",
    "- *Polymorphism* Ability to implement inherited properties or methods in different ways across multiple abstractions.\n",
    "\n",
    "[^1]: Source: [Microsoft: Object-Oriented programming (C#)](https://learn.microsoft.com/en-us/dotnet/csharp/fundamentals/tutorials/oop)\n",
    "\n",
    "Even though Python does not fully implement all principles, **everything** in Python is an object. For example:\n",
    "```python\n",
    ">>> a=1\n",
    ">>> type(a)\n",
    "<class 'int'>\n",
    "```\n",
    "Which means, `a` is an instance of class `int`, therefore an object.\n",
    "\n",
    "### Functional Programming\n",
    "\n",
    "FP (for short) is one example of declarative programming. These are a few principles:\n",
    "- Pure functions\n",
    "  - Functions must accept at least one argument\n",
    "  - Functions return data or another function\n",
    "  - No loops\n",
    "  - Stateless (whenever the function runs, it's like it's running for the first time; in other words, given the same inputs, the output will always be the same)\n",
    "  - No side effects (when the function runs, **nothing** outside of its scope will change)\n",
    "- Immutable values\n",
    "  - Scalar variables are constant\n",
    "  - If a function needs, for example, to alter an array, then instead it should make an altered copy of the array and return it\n",
    "- Referential transparency\n",
    "  - An expression is called *referentially transparent* if it can be replaced with its corresponding value (and vice-versa) without changing the program's behavior. This requires that the expression be pure: its value must be the same for the same inputs and its evaluation must have no side effects. An expression that is not referentially transparent is called **referentially opaque**.[^2]\n",
    "\n",
    "[^2]: Source: [Wikipedia: Referential transparency](https://en.wikipedia.org/wiki/Referential_transparency)"
   ]
  },
  {
   "cell_type": "markdown",
   "id": "1a89811d-0d38-4e7e-bd05-ac997f955026",
   "metadata": {},
   "source": [
    "## Practical Example \\#1: Factorial\n",
    "\n",
    "This is one way of defining a function to calculate the factorial of a number using imperative programming:"
   ]
  },
  {
   "cell_type": "code",
   "execution_count": 1,
   "id": "0d7a03a2-e66c-41e7-986f-9b95e8f82bfb",
   "metadata": {},
   "outputs": [],
   "source": [
    "def factorial1(n: int) -> int:\n",
    "    result = 1\n",
    "    for i in range(2, n+1):\n",
    "        result *= i\n",
    "    return result"
   ]
  },
  {
   "cell_type": "markdown",
   "id": "6b28c156-5123-456e-abc6-1bc8da5c152f",
   "metadata": {},
   "source": [
    "There are two side effects (`result` and `i`), both of which are mutable, and there is one `for` loop. Regardless, how does it perform?"
   ]
  },
  {
   "cell_type": "code",
   "execution_count": 2,
   "id": "9e78fa60-8499-4399-aa2a-83b2f41cd72f",
   "metadata": {},
   "outputs": [
    {
     "name": "stdout",
     "output_type": "stream",
     "text": [
      "508 µs ± 95.8 µs per loop (mean ± std. dev. of 7 runs, 1,000 loops each)\n"
     ]
    }
   ],
   "source": [
    "%%timeit\n",
    "factorial1(1558)"
   ]
  },
  {
   "cell_type": "markdown",
   "id": "375bab65-3536-4723-9c03-b8504276aadc",
   "metadata": {},
   "source": [
    "Note: 1,558 is the largest input I could find that does not break the function.\n",
    "\n",
    "Here's the same function, this time using functional programming principles:"
   ]
  },
  {
   "cell_type": "code",
   "execution_count": 3,
   "id": "a9cfb8ec-f091-4f3a-bb1f-3a23bb24e9cc",
   "metadata": {},
   "outputs": [],
   "source": [
    "def factorial2(n: int) -> int:\n",
    "    return 1 if n < 2 else n * factorial2(n-1)"
   ]
  },
  {
   "cell_type": "code",
   "execution_count": 4,
   "id": "456a3427-0785-423e-90d6-fe10b2a955e8",
   "metadata": {},
   "outputs": [
    {
     "name": "stdout",
     "output_type": "stream",
     "text": [
      "747 µs ± 175 µs per loop (mean ± std. dev. of 7 runs, 1,000 loops each)\n"
     ]
    }
   ],
   "source": [
    "%%timeit\n",
    "factorial2(1558)"
   ]
  },
  {
   "cell_type": "markdown",
   "id": "4bb05dd7-2cfd-45b9-8c11-59490c4e85b8",
   "metadata": {},
   "source": [
    "It's roughly 50% slower.\n",
    "\n",
    "Python allows us to define `lambda` functions, which also adhere to functional programming principles. Here's one way of writing the same function:"
   ]
  },
  {
   "cell_type": "code",
   "execution_count": 5,
   "id": "a0b8aad9-a49c-42b6-ae9c-beeae5f2d405",
   "metadata": {},
   "outputs": [],
   "source": [
    "factorial3 = lambda n: 1 if n < 2 else n * factorial3(n-1)"
   ]
  },
  {
   "cell_type": "code",
   "execution_count": 6,
   "id": "b4da6f31-cac5-4c50-9719-61e1e3ed107a",
   "metadata": {},
   "outputs": [
    {
     "name": "stdout",
     "output_type": "stream",
     "text": [
      "611 µs ± 130 µs per loop (mean ± std. dev. of 7 runs, 1,000 loops each)\n"
     ]
    }
   ],
   "source": [
    "%%timeit\n",
    "factorial3(1558)"
   ]
  },
  {
   "cell_type": "markdown",
   "id": "d8a39d28-ac98-4324-8a85-e3c5eb8ae502",
   "metadata": {},
   "source": [
    "It's a tad faster than the previous example, still much slower than using imperative programming. Also, we're not measuring resource usage here, although we do know that recursion does consume memory."
   ]
  },
  {
   "cell_type": "markdown",
   "id": "14d0f35b-5b8a-45e3-831e-a602ea314f52",
   "metadata": {},
   "source": [
    "## Practical Example \\#2: Fibonacci Sequence\n",
    "\n",
    "Here's a simple implementation using imperative programming:"
   ]
  },
  {
   "cell_type": "code",
   "execution_count": 7,
   "id": "d36d8ddb-5c2f-4953-9d3c-503f66ad3c22",
   "metadata": {},
   "outputs": [],
   "source": [
    "def fibonacci1(n: int) -> int:\n",
    "    a, b = 0, 1\n",
    "    for i in range(n):\n",
    "        a, b = b, a + b\n",
    "    return a"
   ]
  },
  {
   "cell_type": "markdown",
   "id": "b7e04731-2570-47b2-bf36-c39ef70fbd19",
   "metadata": {},
   "source": [
    "Likewise, there are **three** side effects (`a`, `b`, and `i`), all of which mutable, and one `for` loop."
   ]
  },
  {
   "cell_type": "code",
   "execution_count": 8,
   "id": "a563509b-c091-4600-be82-9bf1a89d54a6",
   "metadata": {},
   "outputs": [
    {
     "name": "stdout",
     "output_type": "stream",
     "text": [
      "4.85 ms ± 232 µs per loop (mean ± std. dev. of 7 runs, 100 loops each)\n"
     ]
    }
   ],
   "source": [
    "%%timeit\n",
    "fibonacci1(20577)"
   ]
  },
  {
   "cell_type": "markdown",
   "id": "fca8f86c-76ce-4f4b-aaa2-807f4765fbde",
   "metadata": {},
   "source": [
    "Once again, 20,577 is that largest input I could find that does not break the function.\n",
    "\n",
    "Let's try a purely functional approach to the Fibonacci sequence."
   ]
  },
  {
   "cell_type": "code",
   "execution_count": 9,
   "id": "ec792a99-bdc4-4f3c-8199-076ffb1e0e2c",
   "metadata": {},
   "outputs": [],
   "source": [
    "fibonacci3 = lambda n: n if n < 2 else fibonacci3(n-1) + fibonacci3(n-2)"
   ]
  },
  {
   "cell_type": "markdown",
   "id": "d57e7148-96c9-4e7a-a818-e46eaeacb8ce",
   "metadata": {},
   "source": [
    "It becomes unbearably slow, as can be seen here (I tried a smaller number just to make it palatable)."
   ]
  },
  {
   "cell_type": "code",
   "execution_count": 10,
   "id": "d86f543d-8a83-4133-b650-fa9bdad7778c",
   "metadata": {},
   "outputs": [
    {
     "name": "stdout",
     "output_type": "stream",
     "text": [
      "284 ms ± 41.4 ms per loop (mean ± std. dev. of 7 runs, 10 loops each)\n"
     ]
    }
   ],
   "source": [
    "%%timeit -n 10\n",
    "fibonacci3(30)"
   ]
  },
  {
   "cell_type": "markdown",
   "id": "b4ad4b25-11a8-43c1-8b42-c420ec76a1ed",
   "metadata": {},
   "source": [
    "For the sake of comparison, here's the timing when using the purely imperative approach."
   ]
  },
  {
   "cell_type": "code",
   "execution_count": 11,
   "id": "11e11ebc-6c26-40d5-84e2-91d1c19c521c",
   "metadata": {},
   "outputs": [
    {
     "name": "stdout",
     "output_type": "stream",
     "text": [
      "1.8 µs ± 485 ns per loop (mean ± std. dev. of 7 runs, 1,000 loops each)\n"
     ]
    }
   ],
   "source": [
    "%%timeit -n 1000\n",
    "fibonacci1(30)"
   ]
  },
  {
   "cell_type": "markdown",
   "id": "29c204f5-1531-4a8a-a5ff-edc0a05ccf12",
   "metadata": {},
   "source": [
    "### A Pinch of Dynamic Programming\n",
    "\n",
    "The first problem with the Fibonacci sequence is that there are two recursions: `fibonacci3(n-1)` and `fibonacci3(n-2)`.\n",
    "\n",
    "The other problem, maybe even worse, is that the function keeps recalculating the same value over and over again. As an example, what happens when we run `fibonacci3(30)`? It runs for 29, which runs for 28, 27, 26, etc. **and then** it runs for 28 **AGAIN**! Why can't we reuse what has been previously calculated?\n",
    "\n",
    "In comes Dynamic Programming. One of its principles is to break down a problem into smaller subproblems and solve them on at a time, and then solve the bigger one. In this case, we can use it as an optimization over plain recursion. Wherever we see a recursive solution that has repeated calls for same inputs, we can optimize it using Dynamic Programming. The idea is to simply store the results of subproblems, so that we do not have to re-compute them when needed later. This simple optimization reduces time complexities from exponential to polynomial.[^3]\n",
    "\n",
    "[^3]: Source: [GeeksforGeeks: Dynamic Programming](https://www.geeksforgeeks.org/dynamic-programming/#)\n",
    "\n",
    "Here's one implementation:"
   ]
  },
  {
   "cell_type": "code",
   "execution_count": 12,
   "id": "dc2dfbb2-ab32-46fb-a00a-59b266e8f9af",
   "metadata": {},
   "outputs": [],
   "source": [
    "cache = {}\n",
    "def fibonacci4(n: int) -> int:\n",
    "    if n not in cache:\n",
    "        cache[n] = n if n < 2 else fibonacci4(n-1) + fibonacci4(n-2)\n",
    "    return cache[n]"
   ]
  },
  {
   "cell_type": "markdown",
   "id": "dea85892-ce9c-4139-b918-f5bee83aaad0",
   "metadata": {},
   "source": [
    "Not only `cache` is mutable, but it's also a huge side effect, as it will linger forever. In Python, however, we could minimize the risk of another function to alter `cache` by placing it on an external file.\n",
    "\n",
    "How does it perform? It's hard to determine the maximum amount at which it breaks, so I'll just use a number of my choice."
   ]
  },
  {
   "cell_type": "code",
   "execution_count": 13,
   "id": "5f199e2e-f6b6-4390-ae30-159371935347",
   "metadata": {},
   "outputs": [
    {
     "name": "stdout",
     "output_type": "stream",
     "text": [
      "130 ns ± 11 ns per loop (mean ± std. dev. of 7 runs, 10,000,000 loops each)\n"
     ]
    }
   ],
   "source": [
    "%%timeit\n",
    "fibonacci4(1000)"
   ]
  },
  {
   "cell_type": "markdown",
   "id": "a181010f-f8dc-46fc-b69d-5ab27c215bc0",
   "metadata": {},
   "source": [
    "For the sake of comparison, once again I present you the timing when using the purely imperative approach."
   ]
  },
  {
   "cell_type": "code",
   "execution_count": 14,
   "id": "c3230795-8636-4dd2-94cf-9f4ab63945b5",
   "metadata": {},
   "outputs": [
    {
     "name": "stdout",
     "output_type": "stream",
     "text": [
      "61.9 µs ± 3.83 µs per loop (mean ± std. dev. of 7 runs, 10,000 loops each)\n"
     ]
    }
   ],
   "source": [
    "%%timeit\n",
    "fibonacci1(1000)"
   ]
  },
  {
   "cell_type": "markdown",
   "id": "e25d58bf-76bf-4d20-82dd-2f1424977262",
   "metadata": {},
   "source": [
    "The numbers speak for themselves: the dynamic programming examples runs in a fraction of the time used by other paradigms. This is because, most of the time, the function is just returning the value that had been previously calculated.\n",
    "\n",
    "In case you were wondering, the cache is, indeed, preserved between runs."
   ]
  },
  {
   "cell_type": "code",
   "execution_count": 15,
   "id": "a55d0c75-efce-4f21-8ead-588a8621bcf3",
   "metadata": {},
   "outputs": [
    {
     "data": {
      "text/plain": [
       "1001"
      ]
     },
     "execution_count": 15,
     "metadata": {},
     "output_type": "execute_result"
    }
   ],
   "source": [
    "len(cache)"
   ]
  },
  {
   "cell_type": "markdown",
   "id": "51018584-28b4-49f8-aa9f-cf88721a7dfe",
   "metadata": {},
   "source": [
    "### Memoization\n",
    "\n",
    "The technique we just used up here is called *memoization*. According to [Wikipedia](https://en.wikipedia.org/wiki/Memoization), \"In computing, memoization or memoisation is an optimization technique used primarily to speed up computer programs by storing the results of expensive function calls to pure functions and returning the cached result when the same inputs occur again.\"\n",
    "\n",
    "Fortunately for us, Python has plenty of rabbits we can hide in our hats. A [quick search online](https://duckduckgo.com/?q=memoization+python&t=newext&atb=v427-6&ia=web) will show us a number of possibilities, some built in, others we can build ourselves without having to recreate them over and over again.\n",
    "\n",
    "I, for one, prefer to keep things simple. On average, those who preceded me have spent significant time building an effective implementation of a comprehensive solution to a problem, and the best I can do is, at the least, evaluate their solution. Let's begin by having a look at `functools.lru_cache`:"
   ]
  },
  {
   "cell_type": "code",
   "execution_count": 16,
   "id": "e15931fc-b88a-498e-9d11-426d7a71b2f8",
   "metadata": {},
   "outputs": [],
   "source": [
    "from functools import lru_cache\n",
    "\n",
    "@lru_cache\n",
    "def fibonacci2a(n : int) -> int:\n",
    "    return n if n < 2 else fibonacci2a(n-1) + fibonacci2a(n-2)"
   ]
  },
  {
   "cell_type": "code",
   "execution_count": 17,
   "id": "25644e66-06cf-4852-97a5-3a3ed4c0f42b",
   "metadata": {},
   "outputs": [
    {
     "name": "stdout",
     "output_type": "stream",
     "text": [
      "95 ns ± 14 ns per loop (mean ± std. dev. of 7 runs, 10,000,000 loops each)\n"
     ]
    }
   ],
   "source": [
    "%%timeit\n",
    "fibonacci2a(1000)"
   ]
  },
  {
   "cell_type": "markdown",
   "id": "1b8ac898-8593-4485-90b3-022b687a2f6c",
   "metadata": {},
   "source": [
    "Another possibility is to use `functools.cache`. The difference is that `cache` doesn't enforce a limit whilst `lru_cache` does."
   ]
  },
  {
   "cell_type": "code",
   "execution_count": 18,
   "id": "58348db1-0b16-4315-952a-814d25d2ddac",
   "metadata": {},
   "outputs": [],
   "source": [
    "from functools import cache\n",
    "\n",
    "@cache\n",
    "def fibonacci2b(n : int) -> int:\n",
    "    return n if n < 2 else fibonacci2b(n-1) + fibonacci2b(n-2)"
   ]
  },
  {
   "cell_type": "code",
   "execution_count": 19,
   "id": "0c71f223-cf17-4e1a-9d4c-bd3818efac42",
   "metadata": {},
   "outputs": [
    {
     "name": "stdout",
     "output_type": "stream",
     "text": [
      "68.8 ns ± 3.07 ns per loop (mean ± std. dev. of 7 runs, 10,000,000 loops each)\n"
     ]
    }
   ],
   "source": [
    "%%timeit\n",
    "fibonacci2b(1000)"
   ]
  },
  {
   "cell_type": "markdown",
   "id": "520b3951-8568-4ef5-8c52-628dd89076a2",
   "metadata": {},
   "source": [
    "The other difference, as can be seen here, is that `cache` is usually faster than `lru_cache` because, among other reasons, it doesn't have to manage limits. Keep in mind, however, that reason utilization could increase significantly over time.\n",
    "\n",
    "By the way, did you notice that the examples using `cache` and `lru_cache` ran faster than my previous code caching intermediate results internally (fibonacci4)?"
   ]
  },
  {
   "cell_type": "markdown",
   "id": "3c05e54f-152e-4ad7-b3e1-f3e0a22b2002",
   "metadata": {},
   "source": [
    "# The Golden Hammer Antipattern\n",
    "\n",
    "The Golden Hammer antipattern permeates from a development team's overreliance on a single tool set, pattern, platform, or other component of the development workflow. It is a classic pitfall that any team faces when they have gained some level of expertise in a particular solution or methodology. This antipattern is appropriately summarized using the following adage: \"When all you have is a hammer, everything looks like a nail.\"[^4]\n",
    "\n",
    "One of the main advantages of functional programming is its simplicity. Given the same results for the same inputs, and given there are no side effects, it's easy to debug. Resource consumption and execution time may be issues and must be taken into account. In my past experience as a software engineer, however, I should say that only in rare occasions I dealt with deep recursion levels. The most notable case was so many years ago, when I had to look up data in a hierarchical data structure. Resources were at a premium and my program was crashing at random intervals. My very talented data architect came to the rescue, creating a new database view for me, and my problems went away.\n",
    "\n",
    "Or, at the least, this one.\n",
    "\n",
    "There are purely declarative programming languages. Likewise, there are purely imperative programming languages. You *may* be stuck.\n",
    "\n",
    "There are, nonetheless, multiparadigm programming languages. You'll have the option to choose how to write your code. Against the Golden Hammer antipattern, remember that you have multiple tools and techniques at your disposal, so do yourself a favor and choose the best one for solving the problem at hand.\n",
    "\n",
    "[^4]: Source: [TechTarget: Signs of a Golden Hammer antipattern, and 5 ways to avoid it](https://www.techtarget.com/searchapparchitecture/tip/Signs-of-a-Golden-Hammer-antipattern-and-ways-to-avoid-it)"
   ]
  }
 ],
 "metadata": {
  "kernelspec": {
   "display_name": "Python 3 (ipykernel)",
   "language": "python",
   "name": "python3"
  },
  "language_info": {
   "codemirror_mode": {
    "name": "ipython",
    "version": 3
   },
   "file_extension": ".py",
   "mimetype": "text/x-python",
   "name": "python",
   "nbconvert_exporter": "python",
   "pygments_lexer": "ipython3",
   "version": "3.12.7"
  }
 },
 "nbformat": 4,
 "nbformat_minor": 5
}
